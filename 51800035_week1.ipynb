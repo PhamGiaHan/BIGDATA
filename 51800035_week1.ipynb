{
  "nbformat": 4,
  "nbformat_minor": 0,
  "metadata": {
    "colab": {
      "name": "51800035.ipynb",
      "provenance": [],
      "collapsed_sections": []
    },
    "kernelspec": {
      "name": "python3",
      "display_name": "Python 3"
    }
  },
  "cells": [
    {
      "cell_type": "code",
      "metadata": {
        "colab": {
          "base_uri": "https://localhost:8080/"
        },
        "id": "wRdTtZbtJtdx",
        "outputId": "88ae8615-0d4b-43cf-f05a-e1a9254e9b5a"
      },
      "source": [
        "!pip install pyspark\n"
      ],
      "execution_count": 1,
      "outputs": [
        {
          "output_type": "stream",
          "text": [
            "Collecting pyspark\n",
            "\u001b[?25l  Downloading https://files.pythonhosted.org/packages/f0/26/198fc8c0b98580f617cb03cb298c6056587b8f0447e20fa40c5b634ced77/pyspark-3.0.1.tar.gz (204.2MB)\n",
            "\u001b[K     |████████████████████████████████| 204.2MB 74kB/s \n",
            "\u001b[?25hCollecting py4j==0.10.9\n",
            "\u001b[?25l  Downloading https://files.pythonhosted.org/packages/9e/b6/6a4fb90cd235dc8e265a6a2067f2a2c99f0d91787f06aca4bcf7c23f3f80/py4j-0.10.9-py2.py3-none-any.whl (198kB)\n",
            "\u001b[K     |████████████████████████████████| 204kB 43.6MB/s \n",
            "\u001b[?25hBuilding wheels for collected packages: pyspark\n",
            "  Building wheel for pyspark (setup.py) ... \u001b[?25l\u001b[?25hdone\n",
            "  Created wheel for pyspark: filename=pyspark-3.0.1-py2.py3-none-any.whl size=204612242 sha256=465b14a8170df919a1fa8ffaca1776c807ac6e6e38725314a7cc361fd0971a15\n",
            "  Stored in directory: /root/.cache/pip/wheels/5e/bd/07/031766ca628adec8435bb40f0bd83bb676ce65ff4007f8e73f\n",
            "Successfully built pyspark\n",
            "Installing collected packages: py4j, pyspark\n",
            "Successfully installed py4j-0.10.9 pyspark-3.0.1\n"
          ],
          "name": "stdout"
        }
      ]
    },
    {
      "cell_type": "code",
      "metadata": {
        "id": "_jxgGiWrKa1N",
        "colab": {
          "base_uri": "https://localhost:8080/"
        },
        "outputId": "4e091efb-c59e-4a73-f3c7-25f1d2e90389"
      },
      "source": [
        "from pyspark import SparkConf, SparkContext\n",
        "import collections\n",
        "\n",
        "conf = SparkConf().setMaster(\"local\").setAppName(\"Word Counting Example\")\n",
        "sc = SparkContext.getOrCreate(conf = conf)\n",
        "text_File = sc.textFile('/content/example.txt')\n",
        "files = (text_File.map(lambda line: line.split(' '))).reduce(lambda x: 1)\n",
        "\n",
        "words = (sc.parallelize(files)).map(lambda word: (word, 1))\n",
        "counts = words.count()\n",
        "print(\"Văn bản trên có \" + str(counts) + \" từ\")\n",
        "\n",
        "words = words.reduceByKey(lambda x, y: x+y)\n",
        "mostWord = (words.reduce(lambda a, b: a if a[1] > b[1] else b))\n",
        "counts_1 = [x[0] for x in words.collect() if (x[1] == mostWord[1])]\n",
        "\n",
        "print(\"Các từ '\" + ', '.join(map(str, counts_1)) + \"' có tần suất xuất hiện nhiều nhất với \" + str(mostWord[1]) + \" lần\")\n",
        "\n"
      ],
      "execution_count": 5,
      "outputs": [
        {
          "output_type": "stream",
          "text": [
            "Văn bản trên có 95 từ\n",
            "Các từ 'tính, toán' có tần suất xuất hiện nhiều nhất với 5 lần\n"
          ],
          "name": "stdout"
        }
      ]
    },
    {
      "cell_type": "code",
      "metadata": {
        "colab": {
          "base_uri": "https://localhost:8080/"
        },
        "id": "Dor-LRd3KsiA",
        "outputId": "1d8cd7f9-b4b9-425e-a094-793d5e0d53e2"
      },
      "source": [
        ""
      ],
      "execution_count": null,
      "outputs": [
        {
          "output_type": "stream",
          "text": [
            "50\n",
            "11.888\n"
          ],
          "name": "stdout"
        }
      ]
    }
  ]
}