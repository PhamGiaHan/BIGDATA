{
  "nbformat": 4,
  "nbformat_minor": 0,
  "metadata": {
    "colab": {
      "name": "51800035_week3.ipynb",
      "provenance": [],
      "collapsed_sections": []
    },
    "kernelspec": {
      "name": "python3",
      "display_name": "Python 3"
    }
  },
  "cells": [
    {
      "cell_type": "code",
      "metadata": {
        "colab": {
          "base_uri": "https://localhost:8080/"
        },
        "id": "UXAuBI0jbYoz",
        "outputId": "5cb2ad3b-ace4-4369-a595-21a653c38014"
      },
      "source": [
        "pip install pyspark"
      ],
      "execution_count": 7,
      "outputs": [
        {
          "output_type": "stream",
          "text": [
            "Requirement already satisfied: pyspark in /usr/local/lib/python3.7/dist-packages (3.0.2)\n",
            "Requirement already satisfied: py4j==0.10.9 in /usr/local/lib/python3.7/dist-packages (from pyspark) (0.10.9)\n"
          ],
          "name": "stdout"
        }
      ]
    },
    {
      "cell_type": "code",
      "metadata": {
        "id": "5WCilIvXbgdW"
      },
      "source": [
        "from pyspark import SparkConf, SparkContext\r\n",
        "from itertools import permutations\r\n",
        "import collections\r\n",
        "import csv\r\n",
        "import time\r\n",
        "\r\n",
        "conf = SparkConf().setMaster('local').setAppName('Apriori')\r\n",
        "sc = SparkContext.getOrCreate(conf = conf)\r\n"
      ],
      "execution_count": 1,
      "outputs": []
    },
    {
      "cell_type": "code",
      "metadata": {
        "colab": {
          "base_uri": "https://localhost:8080/"
        },
        "id": "Roi6edMtb3-D",
        "outputId": "197b8268-1d22-4366-f221-36a18155a2da"
      },
      "source": [
        "file = sc.textFile('store_data.csv')\r\n",
        "start_time = time.time()\r\n",
        "#files = file.map(lambda line: line.split(', '))\r\n",
        "files = file.mapPartitions(lambda line: csv.reader(line))\r\n",
        "#print(files.collect())\r\n",
        "items = file.flatMap(lambda line: line.split(','))\r\n",
        "#print(items.collect())\r\n",
        "uniItems = items.distinct()\r\n",
        "wrds = items.map(lambda word: (word, 1))\r\n",
        "rdd = wrds.reduceByKey(lambda x,y: x+y)\r\n",
        "supportValues = rdd.map(lambda value: value[1]) #supports\r\n",
        "minSupValues = 100\r\n",
        "supportRdd = rdd.filter(lambda x: x[1] >= minSupValues)\r\n",
        "baseRdd = supportRdd.map(lambda x: ([x[0]], x[1]))\r\n",
        "print('Created table.')\r\n",
        "\r\n",
        "supportRdd = supportRdd.map(lambda x: x[0])\r\n",
        "rddCart = supportRdd\r\n",
        "\r\n",
        "def removeDuplicatedItems(item):\r\n",
        "  if (isinstance(item[0], tuple)):\r\n",
        "    x = item[0]\r\n",
        "    y = item[1]\r\n",
        "  else:\r\n",
        "    x = [item[0]]\r\n",
        "    y = item[1]\r\n",
        "  if (any(i == y for i in x) == False):\r\n",
        "    temp = list(x)\r\n",
        "    temp.append(y)\r\n",
        "    temp.sort()\r\n",
        "    result = tuple(temp)\r\n",
        "    return result\r\n",
        "  else:\r\n",
        "    return x\r\n",
        "\r\n",
        "combination_length = 2\r\n",
        "while (supportRdd.isEmpty() == False):\r\n",
        "  combined = supportRdd.cartesian(uniItems)\r\n",
        "  combined = combined.map(lambda item: removeDuplicatedItems(item))\r\n",
        "\r\n",
        "  combined = combined.filter(lambda item: len(item) == combination_length)\r\n",
        "  combined = combined.distinct()\r\n",
        "\r\n",
        "  combined2 = combined.cartesian(files)\r\n",
        "  combined2 = combined2.filter(lambda item: all(x in item[1] for x in item[0]))\r\n",
        "\r\n",
        "  combined2 = combined2.map(lambda item: item[0])\r\n",
        "  combined2 = combined2.map(lambda item: (item, 1))\r\n",
        "  combined2 = combined2.reduceByKey(lambda x,y: x+y)\r\n",
        "  combined2 = combined2.filter(lambda item: item[1] >= minSupValues)\r\n",
        "\r\n",
        "  baseRdd = baseRdd.union(combined2)\r\n",
        "  combined2 = combined2.map(lambda item: item[0])\r\n",
        "  supportRdd = combined2\r\n",
        "  \r\n",
        "  combination_length +=1\r\n",
        "\r\n",
        "  print(str(combination_length-1) +' table has created')\r\n",
        "\r\n",
        "class Filter():\r\n",
        "  def __init__(self):\r\n",
        "    self.stages = 1\r\n",
        "  \r\n",
        "  def calculateItemSet(self, a, b):\r\n",
        "    if (len(a) > len(b)):\r\n",
        "      return all(any(i == y for i in a) for y in b)\r\n",
        "    else:\r\n",
        "      return all(any(i == y for i in b) for y in a)\r\n",
        "\r\n",
        "  def filterForConf(self, item, total):\r\n",
        "    if (len(item[0][0]) > len(item[1][0])):\r\n",
        "      if (self.calculateItemSet(item[0][0], item[1][0]) == False):\r\n",
        "        pass\r\n",
        "      else:\r\n",
        "        return (item)\r\n",
        "    else:\r\n",
        "      pass\r\n",
        "    self.stages = self.stages + 1\r\n",
        "\r\n",
        "  def calculateConfidence(self, item):\r\n",
        "    parent = set(item[0][0])\r\n",
        "\r\n",
        "    if (isinstance(item[1][0], str)):\r\n",
        "      child = set([item[1][0]])\r\n",
        "    else:\r\n",
        "      child = set(item[1][0])\r\n",
        "\r\n",
        "    pSup = item[0][1]\r\n",
        "    chSup = item[1][1]\r\n",
        "    sup = (pSup / chSup) \r\n",
        "    return list([list(child), list(parent.difference(child)), sup])\r\n",
        "\r\n",
        "calculatedItems = baseRdd.cartesian(baseRdd)\r\n",
        "fo = Filter()\r\n",
        "total = calculatedItems.count()\r\n",
        "rddConfidence = calculatedItems.filter(lambda item: fo.filterForConf(item, total))\r\n",
        "rddConfidence = rddConfidence.map(lambda item: fo.calculateConfidence(item))\r\n",
        "rddConfidence = rddConfidence.filter(lambda item: item[-1] >= 0.3)\r\n",
        "\r\n",
        "\r\n",
        "print(rddConfidence.collect())\r\n",
        "end_time = time.time()\r\n",
        "print('Thời gian thực hiện: ', end_time-start_time)"
      ],
      "execution_count": 3,
      "outputs": [
        {
          "output_type": "stream",
          "text": [
            "Created table.\n",
            "2 table has created\n",
            "3 table has created\n",
            "4 table has created\n",
            "[[['shrimp'], ['mineral water'], 0.3302238805970149], [['low fat yogurt'], ['mineral water'], 0.313588850174216], [['honey'], ['mineral water'], 0.31741573033707865], [['salmon'], ['mineral water'], 0.4012539184952978], [['frozen smoothie'], ['mineral water'], 0.32], [['olive oil'], ['mineral water'], 0.4190283400809717], [['burgers'], ['eggs'], 0.3302752293577982], [['milk'], ['mineral water'], 0.37037037037037035], [['whole wheat rice'], ['mineral water'], 0.3439635535307517], [['turkey'], ['mineral water'], 0.3070362473347548], [['soup'], ['mineral water'], 0.45646437994722955], [['salmon'], ['spaghetti'], 0.3166144200626959], [['olive oil'], ['spaghetti'], 0.3481781376518219], [['cooking oil'], ['mineral water'], 0.39425587467362927], [['turkey'], ['eggs'], 0.31130063965884863], [['frozen vegetables'], ['mineral water'], 0.3748251748251748], [['spaghetti'], ['mineral water'], 0.3430321592649311], [['chocolate'], ['mineral water'], 0.32113821138211385], [['soup'], ['milk'], 0.3007915567282322], [['chicken'], ['mineral water'], 0.38], [['tomatoes'], ['mineral water'], 0.3567251461988304], [['pancakes'], ['mineral water'], 0.3548387096774194], [['ground beef'], ['mineral water'], 0.41655359565807326], [['cooking oil'], ['spaghetti'], 0.31070496083550914], [['cake'], ['mineral water'], 0.33881578947368424], [['grated cheese'], ['mineral water'], 0.3333333333333333], [['fresh bread'], ['mineral water'], 0.30959752321981426], [['herb & pepper'], ['mineral water'], 0.3450134770889488], [['tomatoes'], ['spaghetti'], 0.3060428849902534], [['ground beef'], ['spaghetti'], 0.3989145183175034], [['grated cheese'], ['spaghetti'], 0.3155216284987277], [['herb & pepper'], ['spaghetti'], 0.3288409703504043], [['herb & pepper'], ['ground beef'], 0.32345013477088946], [['milk', 'mineral water'], ['spaghetti'], 0.3277777777777778], [['spaghetti', 'milk'], ['mineral water'], 0.44360902255639095], [['spaghetti', 'eggs'], ['mineral water'], 0.3905109489051095], [['milk', 'chocolate'], ['mineral water'], 0.43568464730290457], [['eggs', 'chocolate'], ['mineral water'], 0.40562248995983935], [['ground beef', 'mineral water'], ['spaghetti'], 0.4169381107491857], [['mineral water', 'chocolate'], ['spaghetti'], 0.3012658227848101], [['spaghetti', 'ground beef'], ['mineral water'], 0.43537414965986393], [['spaghetti', 'chocolate'], ['mineral water'], 0.40476190476190477]]\n",
            "Thời gian thực hiện:  156.30672240257263\n"
          ],
          "name": "stdout"
        }
      ]
    },
    {
      "cell_type": "code",
      "metadata": {
        "colab": {
          "base_uri": "https://localhost:8080/"
        },
        "id": "E7C7Clvhep4Z",
        "outputId": "c7526f30-a32d-436f-ad1d-c9ee4c1625d4"
      },
      "source": [
        "import pandas\r\n",
        "data = rddConfidence.collect()\r\n",
        "\r\n",
        "df = pandas.DataFrame(data = data, columns=[\"Before\", \"After\", \"Confidence\"])\r\n",
        "print(df)"
      ],
      "execution_count": 4,
      "outputs": [
        {
          "output_type": "stream",
          "text": [
            "                          Before            After  Confidence\n",
            "0                       [shrimp]  [mineral water]    0.330224\n",
            "1               [low fat yogurt]  [mineral water]    0.313589\n",
            "2                        [honey]  [mineral water]    0.317416\n",
            "3                       [salmon]  [mineral water]    0.401254\n",
            "4              [frozen smoothie]  [mineral water]    0.320000\n",
            "5                    [olive oil]  [mineral water]    0.419028\n",
            "6                      [burgers]           [eggs]    0.330275\n",
            "7                         [milk]  [mineral water]    0.370370\n",
            "8             [whole wheat rice]  [mineral water]    0.343964\n",
            "9                       [turkey]  [mineral water]    0.307036\n",
            "10                        [soup]  [mineral water]    0.456464\n",
            "11                      [salmon]      [spaghetti]    0.316614\n",
            "12                   [olive oil]      [spaghetti]    0.348178\n",
            "13                 [cooking oil]  [mineral water]    0.394256\n",
            "14                      [turkey]           [eggs]    0.311301\n",
            "15           [frozen vegetables]  [mineral water]    0.374825\n",
            "16                   [spaghetti]  [mineral water]    0.343032\n",
            "17                   [chocolate]  [mineral water]    0.321138\n",
            "18                        [soup]           [milk]    0.300792\n",
            "19                     [chicken]  [mineral water]    0.380000\n",
            "20                    [tomatoes]  [mineral water]    0.356725\n",
            "21                    [pancakes]  [mineral water]    0.354839\n",
            "22                 [ground beef]  [mineral water]    0.416554\n",
            "23                 [cooking oil]      [spaghetti]    0.310705\n",
            "24                        [cake]  [mineral water]    0.338816\n",
            "25               [grated cheese]  [mineral water]    0.333333\n",
            "26                 [fresh bread]  [mineral water]    0.309598\n",
            "27               [herb & pepper]  [mineral water]    0.345013\n",
            "28                    [tomatoes]      [spaghetti]    0.306043\n",
            "29                 [ground beef]      [spaghetti]    0.398915\n",
            "30               [grated cheese]      [spaghetti]    0.315522\n",
            "31               [herb & pepper]      [spaghetti]    0.328841\n",
            "32               [herb & pepper]    [ground beef]    0.323450\n",
            "33         [milk, mineral water]      [spaghetti]    0.327778\n",
            "34             [spaghetti, milk]  [mineral water]    0.443609\n",
            "35             [spaghetti, eggs]  [mineral water]    0.390511\n",
            "36             [milk, chocolate]  [mineral water]    0.435685\n",
            "37             [eggs, chocolate]  [mineral water]    0.405622\n",
            "38  [ground beef, mineral water]      [spaghetti]    0.416938\n",
            "39    [mineral water, chocolate]      [spaghetti]    0.301266\n",
            "40      [spaghetti, ground beef]  [mineral water]    0.435374\n",
            "41        [spaghetti, chocolate]  [mineral water]    0.404762\n"
          ],
          "name": "stdout"
        }
      ]
    }
  ]
}
