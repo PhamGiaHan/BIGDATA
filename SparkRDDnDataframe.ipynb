{
  "nbformat": 4,
  "nbformat_minor": 0,
  "metadata": {
    "colab": {
      "name": "SparkRDDnDataframe.ipynb",
      "provenance": [],
      "collapsed_sections": []
    },
    "kernelspec": {
      "name": "python3",
      "display_name": "Python 3"
    }
  },
  "cells": [
    {
      "cell_type": "markdown",
      "metadata": {
        "id": "RPlvrB1ASB-b"
      },
      "source": [
        "**Spark RDD**"
      ]
    },
    {
      "cell_type": "code",
      "metadata": {
        "colab": {
          "base_uri": "https://localhost:8080/"
        },
        "id": "wRdTtZbtJtdx",
        "outputId": "32397d52-133e-43b9-8b73-9b1ebdf97bb5"
      },
      "source": [
        "pip install pyspark\n"
      ],
      "execution_count": 1,
      "outputs": [
        {
          "output_type": "stream",
          "text": [
            "Collecting pyspark\n",
            "\u001b[?25l  Downloading https://files.pythonhosted.org/packages/45/b0/9d6860891ab14a39d4bddf80ba26ce51c2f9dc4805e5c6978ac0472c120a/pyspark-3.1.1.tar.gz (212.3MB)\n",
            "\u001b[K     |████████████████████████████████| 212.3MB 71kB/s \n",
            "\u001b[?25hCollecting py4j==0.10.9\n",
            "\u001b[?25l  Downloading https://files.pythonhosted.org/packages/9e/b6/6a4fb90cd235dc8e265a6a2067f2a2c99f0d91787f06aca4bcf7c23f3f80/py4j-0.10.9-py2.py3-none-any.whl (198kB)\n",
            "\u001b[K     |████████████████████████████████| 204kB 38.2MB/s \n",
            "\u001b[?25hBuilding wheels for collected packages: pyspark\n",
            "  Building wheel for pyspark (setup.py) ... \u001b[?25l\u001b[?25hdone\n",
            "  Created wheel for pyspark: filename=pyspark-3.1.1-py2.py3-none-any.whl size=212767604 sha256=b371668c9755336b17841f0f7ce460d3b48945c6951fd236ef1445c0cd210d4e\n",
            "  Stored in directory: /root/.cache/pip/wheels/0b/90/c0/01de724414ef122bd05f056541fb6a0ecf47c7ca655f8b3c0f\n",
            "Successfully built pyspark\n",
            "Installing collected packages: py4j, pyspark\n",
            "Successfully installed py4j-0.10.9 pyspark-3.1.1\n"
          ],
          "name": "stdout"
        }
      ]
    },
    {
      "cell_type": "code",
      "metadata": {
        "id": "_jxgGiWrKa1N",
        "colab": {
          "base_uri": "https://localhost:8080/"
        },
        "outputId": "9cb6c23d-5c4c-491e-ff7e-559d22ad2bbf"
      },
      "source": [
        "from pyspark import SparkConf, SparkContext\n",
        "import collections\n",
        "\n",
        "conf = SparkConf().setMaster(\"local\").setAppName(\"Word Counting Example\")\n",
        "sc = SparkContext.getOrCreate(conf = conf)\n",
        "text_File = sc.textFile('/content/example.txt')\n",
        "files = (text_File.map(lambda line: line.split(' '))).reduce(lambda x: 1)\n",
        "print(files)\n",
        "\n",
        "words = (sc.parallelize(files)).map(lambda word: (word, 1))\n",
        "counts = words.count()\n",
        "print(\"Văn bản trên có \" + str(counts) + \" từ\")\n",
        "\n",
        "words = words.reduceByKey(lambda x, y: x+y)\n",
        "mostWord = (words.reduce(lambda a, b: a if a[1] > b[1] else b))\n",
        "counts_1 = [x[0] for x in words.collect() if (x[1] == mostWord[1])]\n",
        "\n",
        "print(\"Các từ '\" + ', '.join(map(str, counts_1)) + \"' có tần suất xuất hiện nhiều nhất với \" + str(mostWord[1]) + \" lần\")\n",
        "\n"
      ],
      "execution_count": null,
      "outputs": [
        {
          "output_type": "stream",
          "text": [
            "['MapReduce', 'là', 'một', 'mô', 'hình', 'lập', 'trình,', 'thực', 'hiện', 'quá', 'tình', 'xử', 'lý', 'tập', 'dữ', 'liệu', 'lớn.', 'MapReduce', 'được', 'triển', 'khai', 'trong', 'một', 'số', 'hệ', 'thống,', 'bao', 'gồm', 'triển', 'khai', 'nội', 'bộ', 'của', 'Google', 'và', 'triển', 'khai', 'mã', 'nguồn', 'mở', 'Hadoop', 'phổ', 'biến', 'có', 'thể', 'lấy', 'được,', 'cùng', 'với', 'hệ', 'thống', 'tệp', 'HDFS', 'từ', 'Apache', 'Foundation.', 'MapReduce', 'bao', 'gồm', 'hai', 'pha:', 'map', 'và', 'reduce.', 'Hai', 'pha', 'này', 'được', 'thực', 'hiện', 'liên', 'tiếp', 'nhau.', 'Thủ', 'tục', 'map()', 'sẽ', 'lọc', 'và', 'phân', 'loại', 'dữ', 'liệu,', 'sau', 'đó', 'thủ', 'tục', 'reduce()', 'sẽ', 'tiến', 'hành', 'tổng', 'hợp', 'dữ', 'liệu.', 'Thư', 'viện', 'của', 'map()', 'và', 'reduce()', 'được', 'viết', 'bằng', 'nhiều', 'loại', 'ngôn', 'ngữ', 'khác', 'nhau', 'và', 'được', 'cài', 'đặt', 'miễn', 'phí,', 'phổ', 'biến', 'nhất', 'là', 'Apache', 'Hoop.', 'Nhiệm', 'vụ', 'cụ', 'thể', 'của', 'map()', 'và', 'reduce():']\n",
            "Văn bản trên có 130 từ\n",
            "Các từ 'và' có tần suất xuất hiện nhiều nhất với 6 lần\n"
          ],
          "name": "stdout"
        }
      ]
    },
    {
      "cell_type": "code",
      "metadata": {
        "colab": {
          "base_uri": "https://localhost:8080/"
        },
        "id": "tvU0vzp4RR2r",
        "outputId": "53d125da-88c9-43a5-fd1e-213bdfa919d9"
      },
      "source": [
        "import pyspark\n",
        "import collections\n",
        "from pyspark import SparkConf, SparkContext\n",
        "from pyspark.sql import SparkSession\n",
        "\n",
        "spark = SparkSession.builder.master(\"local[2]\").appName(\"Spark RDD\").getOrCreate()\n",
        "flower = [('Daisy', 710), ('Rose', 315), ('Orchid', 640), ('Daisy', 90)]\n",
        "rdd = spark.sparkContext.parallelize(flower)\n",
        "count = rdd.reduceByKey(lambda a, b: a + b)\n",
        "print(count.collect())"
      ],
      "execution_count": 3,
      "outputs": [
        {
          "output_type": "stream",
          "text": [
            "[('Daisy', 800), ('Rose', 315), ('Orchid', 640)]\n"
          ],
          "name": "stdout"
        }
      ]
    },
    {
      "cell_type": "markdown",
      "metadata": {
        "id": "88r4vRdyR_ot"
      },
      "source": [
        "**Spark DataFrame**"
      ]
    },
    {
      "cell_type": "code",
      "metadata": {
        "colab": {
          "base_uri": "https://localhost:8080/"
        },
        "id": "Dor-LRd3KsiA",
        "outputId": "b2749566-4c63-40aa-ea0a-09ace11378c2"
      },
      "source": [
        "import pyspark\n",
        "from pyspark import SparkConf, SparkContext\n",
        "from pyspark.sql import SparkSession\n",
        "import collections\n",
        "ss = SparkSession.builder.master(\"local[2]\").appName(\"Spark Dataframe\").getOrCreate()\n",
        "\n",
        "ds = [('51800035', 'Phạm Gia Hân', '21', 'Nữ', '100 Lê Văn Lương'),\n",
        "        ('31800134', 'Lê Thanh Thủy Tiên', '21', 'Nữ', '23 CMT8'),\n",
        "        ('01700071', 'Trân Quốc Toản', '22', 'Nam', '109 Lý Thường Kiệt'),\n",
        "        ('51800323', 'Phùng Quốc Thống', '21', 'Nam', '131 Lê Hồng Phong')]\n",
        "df = ss.createDataFrame(data = ds, schema = ['studentID', 'name', 'age', 'gender', 'address'])\n",
        "df.show()"
      ],
      "execution_count": 5,
      "outputs": [
        {
          "output_type": "stream",
          "text": [
            "+---------+------------------+---+------+------------------+\n",
            "|studentID|              name|age|gender|           address|\n",
            "+---------+------------------+---+------+------------------+\n",
            "| 51800035|      Phạm Gia Hân| 21|    Nữ|  100 Lê Văn Lương|\n",
            "| 31800134|Lê Thanh Thủy Tiên| 21|    Nữ|           23 CMT8|\n",
            "| 01700071|    Trân Quốc Toản| 22|   Nam|109 Lý Thường Kiệt|\n",
            "| 51800323|  Phùng Quốc Thống| 21|   Nam| 131 Lê Hồng Phong|\n",
            "+---------+------------------+---+------+------------------+\n",
            "\n"
          ],
          "name": "stdout"
        }
      ]
    },
    {
      "cell_type": "code",
      "metadata": {
        "colab": {
          "base_uri": "https://localhost:8080/"
        },
        "id": "MgRbcp2nSOBe",
        "outputId": "895c8049-64cd-4080-aa4b-ec8cdbc7269d"
      },
      "source": [
        "df.select('name', 'age').show() #Hiển thị dữ liệu của các cột được chọn\n",
        "df.filter(df.age > 21).show() #Hiển thị dữ liệu có giá trị cột age > 20\n",
        "df.groupBy('age').count().show() #Nhóm giá trị theo cột và đếm số lượng"
      ],
      "execution_count": 6,
      "outputs": [
        {
          "output_type": "stream",
          "text": [
            "+------------------+---+\n",
            "|              name|age|\n",
            "+------------------+---+\n",
            "|      Phạm Gia Hân| 21|\n",
            "|Lê Thanh Thủy Tiên| 21|\n",
            "|    Trân Quốc Toản| 22|\n",
            "|  Phùng Quốc Thống| 21|\n",
            "+------------------+---+\n",
            "\n",
            "+---------+--------------+---+------+------------------+\n",
            "|studentID|          name|age|gender|           address|\n",
            "+---------+--------------+---+------+------------------+\n",
            "| 01700071|Trân Quốc Toản| 22|   Nam|109 Lý Thường Kiệt|\n",
            "+---------+--------------+---+------+------------------+\n",
            "\n",
            "+---+-----+\n",
            "|age|count|\n",
            "+---+-----+\n",
            "| 22|    1|\n",
            "| 21|    3|\n",
            "+---+-----+\n",
            "\n"
          ],
          "name": "stdout"
        }
      ]
    },
    {
      "cell_type": "code",
      "metadata": {
        "colab": {
          "base_uri": "https://localhost:8080/"
        },
        "id": "jg_I_ovbSUIL",
        "outputId": "1167ea8e-8fef-4467-a4cf-568b8d250192"
      },
      "source": [
        "import pyspark\n",
        "from pyspark import SparkConf, SparkContext\n",
        "from pyspark.sql import SparkSession\n",
        "import collections\n",
        "ss = SparkSession.builder.master(\"local[2]\").appName(\"Spark DataFrame\").getOrCreate()\n",
        "\n",
        "df = spark.read.csv(\"/content/bank.csv\", inferSchema = True, header = True)\n",
        "df.printSchema()"
      ],
      "execution_count": 7,
      "outputs": [
        {
          "output_type": "stream",
          "text": [
            "root\n",
            " |-- age: integer (nullable = true)\n",
            " |-- job: string (nullable = true)\n",
            " |-- marital: string (nullable = true)\n",
            " |-- education: string (nullable = true)\n",
            " |-- default: string (nullable = true)\n",
            " |-- balance: integer (nullable = true)\n",
            " |-- housing: string (nullable = true)\n",
            " |-- loan: string (nullable = true)\n",
            " |-- contact: string (nullable = true)\n",
            " |-- day: integer (nullable = true)\n",
            " |-- month: string (nullable = true)\n",
            " |-- duration: integer (nullable = true)\n",
            " |-- campaign: integer (nullable = true)\n",
            " |-- pdays: integer (nullable = true)\n",
            " |-- previous: integer (nullable = true)\n",
            " |-- poutcome: string (nullable = true)\n",
            " |-- deposit: string (nullable = true)\n",
            "\n"
          ],
          "name": "stdout"
        }
      ]
    },
    {
      "cell_type": "code",
      "metadata": {
        "colab": {
          "base_uri": "https://localhost:8080/"
        },
        "id": "IxSZmenYSpJE",
        "outputId": "425e2d82-a40d-4636-dadd-9829e2c1a5c3"
      },
      "source": [
        "df.show()"
      ],
      "execution_count": 8,
      "outputs": [
        {
          "output_type": "stream",
          "text": [
            "+---+-----------+--------+---------+-------+-------+-------+----+-------+---+-----+--------+--------+-----+--------+--------+-------+\n",
            "|age|        job| marital|education|default|balance|housing|loan|contact|day|month|duration|campaign|pdays|previous|poutcome|deposit|\n",
            "+---+-----------+--------+---------+-------+-------+-------+----+-------+---+-----+--------+--------+-----+--------+--------+-------+\n",
            "| 59|     admin.| married|secondary|     no|   2343|    yes|  no|unknown|  5|  may|    1042|       1|   -1|       0| unknown|    yes|\n",
            "| 56|     admin.| married|secondary|     no|     45|     no|  no|unknown|  5|  may|    1467|       1|   -1|       0| unknown|    yes|\n",
            "| 41| technician| married|secondary|     no|   1270|    yes|  no|unknown|  5|  may|    1389|       1|   -1|       0| unknown|    yes|\n",
            "| 55|   services| married|secondary|     no|   2476|    yes|  no|unknown|  5|  may|     579|       1|   -1|       0| unknown|    yes|\n",
            "| 54|     admin.| married| tertiary|     no|    184|     no|  no|unknown|  5|  may|     673|       2|   -1|       0| unknown|    yes|\n",
            "| 42| management|  single| tertiary|     no|      0|    yes| yes|unknown|  5|  may|     562|       2|   -1|       0| unknown|    yes|\n",
            "| 56| management| married| tertiary|     no|    830|    yes| yes|unknown|  6|  may|    1201|       1|   -1|       0| unknown|    yes|\n",
            "| 60|    retired|divorced|secondary|     no|    545|    yes|  no|unknown|  6|  may|    1030|       1|   -1|       0| unknown|    yes|\n",
            "| 37| technician| married|secondary|     no|      1|    yes|  no|unknown|  6|  may|     608|       1|   -1|       0| unknown|    yes|\n",
            "| 28|   services|  single|secondary|     no|   5090|    yes|  no|unknown|  6|  may|    1297|       3|   -1|       0| unknown|    yes|\n",
            "| 38|     admin.|  single|secondary|     no|    100|    yes|  no|unknown|  7|  may|     786|       1|   -1|       0| unknown|    yes|\n",
            "| 30|blue-collar| married|secondary|     no|    309|    yes|  no|unknown|  7|  may|    1574|       2|   -1|       0| unknown|    yes|\n",
            "| 29| management| married| tertiary|     no|    199|    yes| yes|unknown|  7|  may|    1689|       4|   -1|       0| unknown|    yes|\n",
            "| 46|blue-collar|  single| tertiary|     no|    460|    yes|  no|unknown|  7|  may|    1102|       2|   -1|       0| unknown|    yes|\n",
            "| 31| technician|  single| tertiary|     no|    703|    yes|  no|unknown|  8|  may|     943|       2|   -1|       0| unknown|    yes|\n",
            "| 35| management|divorced| tertiary|     no|   3837|    yes|  no|unknown|  8|  may|    1084|       1|   -1|       0| unknown|    yes|\n",
            "| 32|blue-collar|  single|  primary|     no|    611|    yes|  no|unknown|  8|  may|     541|       3|   -1|       0| unknown|    yes|\n",
            "| 49|   services| married|secondary|     no|     -8|    yes|  no|unknown|  8|  may|    1119|       1|   -1|       0| unknown|    yes|\n",
            "| 41|     admin.| married|secondary|     no|     55|    yes|  no|unknown|  8|  may|    1120|       2|   -1|       0| unknown|    yes|\n",
            "| 49|     admin.|divorced|secondary|     no|    168|    yes| yes|unknown|  8|  may|     513|       1|   -1|       0| unknown|    yes|\n",
            "+---+-----------+--------+---------+-------+-------+-------+----+-------+---+-----+--------+--------+-----+--------+--------+-------+\n",
            "only showing top 20 rows\n",
            "\n"
          ],
          "name": "stdout"
        }
      ]
    },
    {
      "cell_type": "code",
      "metadata": {
        "colab": {
          "base_uri": "https://localhost:8080/"
        },
        "id": "b_DNNU5QSr6V",
        "outputId": "1e205b7b-f2e8-44af-9005-71b33640745f"
      },
      "source": [
        "print(df.columns)\n",
        "df.select('education', 'job').show()"
      ],
      "execution_count": 14,
      "outputs": [
        {
          "output_type": "stream",
          "text": [
            "['age', 'job', 'marital', 'education', 'default', 'balance', 'housing', 'loan', 'contact', 'day', 'month', 'duration', 'campaign', 'pdays', 'previous', 'poutcome', 'deposit']\n",
            "+---------+-----------+\n",
            "|education|        job|\n",
            "+---------+-----------+\n",
            "|secondary|     admin.|\n",
            "|secondary|     admin.|\n",
            "|secondary| technician|\n",
            "|secondary|   services|\n",
            "| tertiary|     admin.|\n",
            "| tertiary| management|\n",
            "| tertiary| management|\n",
            "|secondary|    retired|\n",
            "|secondary| technician|\n",
            "|secondary|   services|\n",
            "|secondary|     admin.|\n",
            "|secondary|blue-collar|\n",
            "| tertiary| management|\n",
            "| tertiary|blue-collar|\n",
            "| tertiary| technician|\n",
            "| tertiary| management|\n",
            "|  primary|blue-collar|\n",
            "|secondary|   services|\n",
            "|secondary|     admin.|\n",
            "|secondary|     admin.|\n",
            "+---------+-----------+\n",
            "only showing top 20 rows\n",
            "\n"
          ],
          "name": "stdout"
        }
      ]
    },
    {
      "cell_type": "code",
      "metadata": {
        "colab": {
          "base_uri": "https://localhost:8080/"
        },
        "id": "0T3CcmtMTGNs",
        "outputId": "cc5b678a-bce9-4943-d8a4-342ba7ef8a1e"
      },
      "source": [
        "df.describe('education').show()"
      ],
      "execution_count": 15,
      "outputs": [
        {
          "output_type": "stream",
          "text": [
            "+-------+---------+\n",
            "|summary|education|\n",
            "+-------+---------+\n",
            "|  count|    11162|\n",
            "|   mean|     null|\n",
            "| stddev|     null|\n",
            "|    min|  primary|\n",
            "|    max|  unknown|\n",
            "+-------+---------+\n",
            "\n"
          ],
          "name": "stdout"
        }
      ]
    }
  ]
}